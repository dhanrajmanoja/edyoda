{
 "cells": [
  {
   "cell_type": "code",
   "execution_count": 1,
   "id": "b9369a1d",
   "metadata": {},
   "outputs": [
    {
     "name": "stdout",
     "output_type": "stream",
     "text": [
      "Name: dhanraj\n",
      "DOB: 18/3/2001\n",
      "Height: 5.5\n",
      "City: amravati\n",
      "State: maharashtra\n",
      "\n",
      "Name: komal\n",
      "DOB: 8/5/2001\n",
      "Height: 4.5\n",
      "City: amravati\n",
      "State: maharashtra\n",
      "\n",
      "Name: nakul\n",
      "DOB: 18/12/2005\n",
      "Height: 5.9\n",
      "City: amravati\n",
      "State: maharashtra\n",
      "\n",
      "Name: rahul\n",
      "DOB: 25/8/2001\n",
      "Height: 6.5\n",
      "City: amravati\n",
      "State: maharashtra\n",
      "\n",
      "Name: yash\n",
      "DOB: 4/4/2001\n",
      "Height: 4.5\n",
      "City: amravati\n",
      "State: maharashtra\n",
      "\n"
     ]
    }
   ],
   "source": [
    "employees = [\n",
    "    {\"name\": \"dhanraj\", \"dob\": \"18/3/2001\", \"height\": \"5.5\", \"city\": \"amravati\", \"state\": \"maharashtra\"},\n",
    "    {\"name\": \"komal\", \"dob\": \"8/5/2001\", \"height\": \"4.5\", \"city\": \"amravati\", \"state\": \"maharashtra\"},\n",
    "    {\"name\": \"nakul\", \"dob\": \"18/12/2005\", \"height\": \"5.9\", \"city\": \"amravati\", \"state\": \"maharashtra\"},\n",
    "    {\"name\": \"rahul\", \"dob\": \"25/8/2001\", \"height\": \"6.5\", \"city\": \"amravati\", \"state\": \"maharashtra\"},\n",
    "    {\"name\": \"yash\", \"dob\": \"4/4/2001\", \"height\": \"4.5\", \"city\": \"amravati\", \"state\": \"maharashtra\"}\n",
    "]\n",
    "\n",
    "import json\n",
    "\n",
    "\n",
    "class Employee:\n",
    "    def __init__(self, name, dob, height, city, state):\n",
    "        self.name = name\n",
    "        self.dob = dob\n",
    "        self.height = height\n",
    "        self.city = city\n",
    "        self.state = state\n",
    "\n",
    "with open(\"emp.json\", \"w\") as file:\n",
    "    json.dump(employees, file)\n",
    "\n",
    "employee_lst = []\n",
    "with open(\"emp.json\") as file:\n",
    "    data = json.load(file)\n",
    "\n",
    "for item in data:\n",
    "    name = item[\"name\"]\n",
    "    dob = item[\"dob\"]\n",
    "    height = item[\"height\"]\n",
    "    city = item[\"city\"]\n",
    "    state = item[\"state\"]\n",
    "\n",
    "    emp = Employee(name, dob, height, city, state)\n",
    "    employee_lst.append(emp)\n",
    "\n",
    "for emp in employee_lst:\n",
    "    print(\"Name:\", emp.name)\n",
    "    print(\"DOB:\", emp.dob)\n",
    "    print(\"Height:\", emp.height)\n",
    "    print(\"City:\", emp.city)\n",
    "    print(\"State:\", emp.state)\n",
    "    print()\n"
   ]
  }
 ],
 "metadata": {
  "kernelspec": {
   "display_name": "Python 3 (ipykernel)",
   "language": "python",
   "name": "python3"
  },
  "language_info": {
   "codemirror_mode": {
    "name": "ipython",
    "version": 3
   },
   "file_extension": ".py",
   "mimetype": "text/x-python",
   "name": "python",
   "nbconvert_exporter": "python",
   "pygments_lexer": "ipython3",
   "version": "3.10.9"
  }
 },
 "nbformat": 4,
 "nbformat_minor": 5
}
