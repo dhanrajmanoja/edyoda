{
 "cells": [
  {
   "cell_type": "code",
   "execution_count": 1,
   "id": "7c3e4063",
   "metadata": {},
   "outputs": [
    {
     "name": "stdout",
     "output_type": "stream",
     "text": [
      "Name: Bulldog, Age: 10, Coat Colour: White\n",
      "Coat Colour: White\n",
      "\n",
      "Name: Jack, Age: 5, Coat Colour: Brown\n",
      "Coat Colour: Brown, Height: Medium\n",
      "Temperament: Energetic\n",
      "\n",
      "Name: Spike, Age: 7, Coat Colour: Black\n",
      "Coat Colour: Black, Weight: Heavy, Speed: Slow\n"
     ]
    }
   ],
   "source": [
    "class Dog:\n",
    "    def __init__(self, name, age, coat_colour):\n",
    "        self.name = name\n",
    "        self.age = age\n",
    "        self.coat_colour = coat_colour\n",
    "\n",
    "    def description(self):\n",
    "        return f\"Name: {self.name}, Age: {self.age}, Coat Colour: {self.coat_colour}\"\n",
    "\n",
    "    def get_info(self):\n",
    "        return f\"Coat Colour: {self.coat_colour}\"\n",
    "\n",
    "\n",
    "class JackRussellTerrier(Dog):\n",
    "    def __init__(self, name, age, coat_colour, temperament, height):\n",
    "        super().__init__(name, age, coat_colour)\n",
    "        self.temperament = temperament\n",
    "        self.height = height\n",
    "\n",
    "    def nature(self):\n",
    "        return f\"Temperament: {self.temperament}\"\n",
    "\n",
    "    def get_info(self):\n",
    "        return f\"{super().get_info()}, Height: {self.height}\"\n",
    "\n",
    "\n",
    "class Bulldog(Dog):\n",
    "    def __init__(self, name, age, coat_colour, weight, speed):\n",
    "        super().__init__(name, age, coat_colour)\n",
    "        self.weight = weight\n",
    "        self.speed = speed\n",
    "\n",
    "    def get_info(self):\n",
    "        return f\"{super().get_info()}, Weight: {self.weight}, Speed: {self.speed}\"\n",
    "\n",
    "\n",
    "obj = Dog(\"Bulldog\", 10, \"White\")\n",
    "print(obj.description())\n",
    "print(obj.get_info())\n",
    "\n",
    "print()\n",
    "\n",
    "jr_terrier = JackRussellTerrier(\"Jack\", 5, \"Brown\", \"Energetic\", \"Medium\")\n",
    "print(jr_terrier.description())\n",
    "print(jr_terrier.get_info())\n",
    "print(jr_terrier.nature())\n",
    "\n",
    "print()\n",
    "\n",
    "bulldog = Bulldog(\"Spike\", 7, \"Black\", \"Heavy\", \"Slow\")\n",
    "print(bulldog.description())\n",
    "print(bulldog.get_info())\n"
   ]
  }
 ],
 "metadata": {
  "kernelspec": {
   "display_name": "Python 3 (ipykernel)",
   "language": "python",
   "name": "python3"
  },
  "language_info": {
   "codemirror_mode": {
    "name": "ipython",
    "version": 3
   },
   "file_extension": ".py",
   "mimetype": "text/x-python",
   "name": "python",
   "nbconvert_exporter": "python",
   "pygments_lexer": "ipython3",
   "version": "3.10.9"
  }
 },
 "nbformat": 4,
 "nbformat_minor": 5
}
