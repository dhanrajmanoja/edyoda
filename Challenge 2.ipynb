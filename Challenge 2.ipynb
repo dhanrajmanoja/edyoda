{
 "cells": [
  {
   "cell_type": "code",
   "execution_count": 1,
   "id": "763f83df",
   "metadata": {},
   "outputs": [
    {
     "name": "stdout",
     "output_type": "stream",
     "text": [
      "104 -84 0.10638297872340426 940\n"
     ]
    }
   ],
   "source": [
    "class calculator():\n",
    "    def __init__(self,num1,num2):\n",
    "        self.num1 = num1\n",
    "        self.num2 = num2\n",
    "    def add(self):\n",
    "        return self.num1+self.num2\n",
    "    def sub(self):\n",
    "        return self.num1-self.num2\n",
    "    def multi(self):\n",
    "        return self.num1*self.num2\n",
    "    def divi(self):\n",
    "        return self.num1/self.num2\n",
    "obj = calculator(10,94)\n",
    "add = obj.add()\n",
    "sub = obj.sub()\n",
    "divi = obj.divi()\n",
    "multi = obj.multi()\n",
    "print(add,sub,divi,multi)"
   ]
  }
 ],
 "metadata": {
  "kernelspec": {
   "display_name": "Python 3 (ipykernel)",
   "language": "python",
   "name": "python3"
  },
  "language_info": {
   "codemirror_mode": {
    "name": "ipython",
    "version": 3
   },
   "file_extension": ".py",
   "mimetype": "text/x-python",
   "name": "python",
   "nbconvert_exporter": "python",
   "pygments_lexer": "ipython3",
   "version": "3.10.9"
  }
 },
 "nbformat": 4,
 "nbformat_minor": 5
}
