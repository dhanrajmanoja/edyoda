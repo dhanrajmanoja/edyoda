def reverse_string(input_str):
    return input_str[::-1]

# Example usage
sample_string = "1234abcd"
result = reverse_string(sample_string)
print(result)

