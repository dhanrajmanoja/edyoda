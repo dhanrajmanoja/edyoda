{
 "cells": [
  {
   "cell_type": "code",
   "execution_count": null,
   "id": "1c061866",
   "metadata": {},
   "outputs": [],
   "source": [
    "class student():\n",
    "    def __init__(self):\n",
    "        self.studentname = \"student name\"\n",
    "        self.studentrollnumber = 8\n",
    "    # student name setter\n",
    "    def student_name_setter(self,student_name):\n",
    "        self.studentname = student_name\n",
    "    # student name getter\n",
    "    def student_name_getter(self):\n",
    "        return self.studentname\n",
    "    # student roll number getter\n",
    "    def student_rollno_setter(self,roll_no):\n",
    "        self.studentrollnumber = roll_no\n",
    "    # student roll number getter \n",
    "    def student_rollno_getter(self):\n",
    "        return self.studentrollnumber\n",
    "obj = student()\n",
    "obj.student_name_setter(\"dhanraj\")\n",
    "obj.student_rollno_setter(1832001)\n",
    "print(obj.student_name_getter())\n",
    "print(obj.student_rollno_getter())"
   ]
  }
 ],
 "metadata": {
  "kernelspec": {
   "display_name": "Python 3 (ipykernel)",
   "language": "python",
   "name": "python3"
  },
  "language_info": {
   "codemirror_mode": {
    "name": "ipython",
    "version": 3
   },
   "file_extension": ".py",
   "mimetype": "text/x-python",
   "name": "python",
   "nbconvert_exporter": "python",
   "pygments_lexer": "ipython3",
   "version": "3.10.9"
  }
 },
 "nbformat": 4,
 "nbformat_minor": 5
}
