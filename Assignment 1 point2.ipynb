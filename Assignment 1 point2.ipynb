{
 "cells": [
  {
   "cell_type": "code",
   "execution_count": 1,
   "id": "2dd0ea70",
   "metadata": {},
   "outputs": [],
   "source": [
    "import json\n",
    "\n",
    "indian_states = {\n",
    "    \"Maharashtra\": \"Mumbai\",\n",
    "    \"Karnataka\": \"Bengaluru\",\n",
    "    \"Tamil Nadu\": \"Chennai\",\n",
    "    \"Uttar Pradesh\": \"Lucknow\",\n",
    "    \"Gujarat\": \"Gandhinagar\",\n",
    "    \"Rajasthan\": \"Jaipur\",\n",
    "    \"West Bengal\": \"Kolkata\"\n",
    "}\n",
    "\n",
    "with open(\"indian_states.json\", \"w\") as file:\n",
    "    json.dump(indian_states, file)"
   ]
  }
 ],
 "metadata": {
  "kernelspec": {
   "display_name": "Python 3 (ipykernel)",
   "language": "python",
   "name": "python3"
  },
  "language_info": {
   "codemirror_mode": {
    "name": "ipython",
    "version": 3
   },
   "file_extension": ".py",
   "mimetype": "text/x-python",
   "name": "python",
   "nbconvert_exporter": "python",
   "pygments_lexer": "ipython3",
   "version": "3.10.9"
  }
 },
 "nbformat": 4,
 "nbformat_minor": 5
}
